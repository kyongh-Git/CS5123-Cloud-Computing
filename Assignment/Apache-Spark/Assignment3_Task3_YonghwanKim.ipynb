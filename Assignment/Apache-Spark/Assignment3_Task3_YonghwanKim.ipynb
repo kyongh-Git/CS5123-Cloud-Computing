{
  "nbformat": 4,
  "nbformat_minor": 0,
  "metadata": {
    "colab": {
      "name": "Assignment3_Task3_YonghwanKim.ipynb",
      "provenance": [],
      "collapsed_sections": []
    },
    "kernelspec": {
      "name": "python3",
      "display_name": "Python 3"
    },
    "language_info": {
      "name": "python"
    }
  },
  "cells": [
    {
      "cell_type": "code",
      "execution_count": 1,
      "metadata": {
        "id": "fE9jWeYg9Ewu",
        "colab": {
          "base_uri": "https://localhost:8080/"
        },
        "outputId": "47b8e402-8bf8-4d6b-9bfe-57bf71307342"
      },
      "outputs": [
        {
          "output_type": "stream",
          "name": "stdout",
          "text": [
            "Requirement already satisfied: pyspark in /usr/local/lib/python3.7/dist-packages (3.2.1)\n",
            "Requirement already satisfied: py4j==0.10.9.3 in /usr/local/lib/python3.7/dist-packages (from pyspark) (0.10.9.3)\n"
          ]
        }
      ],
      "source": [
        "# Yonghwan Kim Assignment3 Task3\n",
        "!pip install pyspark"
      ]
    },
    {
      "cell_type": "code",
      "source": [
        "import sys\n",
        "import itertools\n",
        "from pyspark import SparkContext, SparkConf"
      ],
      "metadata": {
        "id": "5NHJAYjGLLmk"
      },
      "execution_count": 2,
      "outputs": []
    },
    {
      "cell_type": "code",
      "source": [
        "# create Spark context with necessary configuration\n",
        "conf = SparkConf()\n",
        "conf.setMaster('local')\n",
        "conf.setAppName('Task3')\n",
        "sc = SparkContext(conf=conf)"
      ],
      "metadata": {
        "id": "-EIPJwm7LNEH"
      },
      "execution_count": 3,
      "outputs": []
    },
    {
      "cell_type": "code",
      "source": [
        "from google.colab import drive\n",
        "drive.mount('/content/drive')"
      ],
      "metadata": {
        "colab": {
          "base_uri": "https://localhost:8080/"
        },
        "id": "AgopRgklLOMw",
        "outputId": "9822332b-81e8-4302-9b70-e0635c01e87b"
      },
      "execution_count": 4,
      "outputs": [
        {
          "output_type": "stream",
          "name": "stdout",
          "text": [
            "Drive already mounted at /content/drive; to attempt to forcibly remount, call drive.mount(\"/content/drive\", force_remount=True).\n"
          ]
        }
      ]
    },
    {
      "cell_type": "code",
      "source": [
        "# Give **.txt FILE PATHS** here\n",
        "# You can use any random input file of your choice\n",
        "file3Dir = '/content/drive/MyDrive/Assignment3_cloud/Assignment3_Task3Data.txt'\n",
        "fileSaveDir = '/content/drive/MyDrive/Assignment3_cloud/Task3Output'\n",
        "# USE THIS FILE as input FOR ALL BELOW tasks\n",
        "# Change filepath to HDFS path when executing in the cluster"
      ],
      "metadata": {
        "id": "8x9xsND3LPbW"
      },
      "execution_count": 5,
      "outputs": []
    },
    {
      "cell_type": "code",
      "source": [
        "# Iterate through the data once and fill direct_friends and friend_recommendations\n",
        "def friendMapping(i):\n",
        "  direct_friends = list()\n",
        "  friend_recommendations = list()\n",
        "\n",
        "  userId, friends = i[0], i[1]\n",
        "  # direct_friends\n",
        "  for friend in friends:\n",
        "    if userId > friend:\n",
        "      direct_friends.append(((friend, userId), 0))\n",
        "    else:\n",
        "      direct_friends.append(((userId, friend), 0))\n",
        "\n",
        "  # friend_recommendations  \n",
        "  for friendComb in itertools.combinations(friends, 2):\n",
        "    if friendComb[0] > friendComb[1]:\n",
        "      friend_recommendations.append(((friendComb[1], friendComb[0]), 1))\n",
        "    else:\n",
        "      friend_recommendations.append(((friendComb[0], friendComb[1]), 1))\n",
        "  return direct_friends + friend_recommendations\n",
        "\n",
        "# recover the string to RDD\n",
        "# take input file from TF_index directory\n",
        "fileRDD = sc.textFile(file3Dir)\n",
        "formatRDD1 = fileRDD.map(lambda i: i.split(\"\\t\"))\n",
        "formatRDD2 = formatRDD1.map(lambda i: (i[0], i[1].split(\",\")))\n",
        "\n",
        "# Stores directly connected friends and user recommendations\n",
        "friendMappingRDD = formatRDD2.flatMap(friendMapping)"
      ],
      "metadata": {
        "id": "tpRuCoI7CjUF"
      },
      "execution_count": 6,
      "outputs": []
    },
    {
      "cell_type": "code",
      "source": [
        "# group the rdd by key\n",
        "groupRDD = friendMappingRDD.groupByKey()\n",
        "# remove direct friends from friend_recommendations\n",
        "filterRDD = groupRDD.filter(lambda i: 0 not in i[1])\n",
        "# sum up weights\n",
        "sumRDD = filterRDD.map(lambda i: (i[0], sum(i[1])))\n",
        "# recommendation\n",
        "recommdRDD = sumRDD.flatMap(lambda i: [(i[0][0], (i[0][1], i[1])), (i[0][1], (i[0][0], i[1]))])\n",
        "# group the rdd by key\n",
        "groupRecommdRDD = recommdRDD.groupByKey()\n",
        "# resolve the output in list format\n",
        "resultRDD = groupRecommdRDD.map(lambda i: (i[0], list(i[1])))"
      ],
      "metadata": {
        "id": "MlOqbTArDo7A"
      },
      "execution_count": 7,
      "outputs": []
    },
    {
      "cell_type": "code",
      "source": [
        "# Sort recommendations based on number of mutual friends and user IDs\n",
        "\n",
        "# sort value by number of mutual friends in decreasing order\n",
        "def sortRecommendation(result):\n",
        "  r1 = sorted(result[1], key=lambda item: item[0]) # sort in increasing order first\n",
        "  r2 = sorted(r1, key=lambda item: (-item[1], item[0])) # sort in decreasing order for friend recommedations\n",
        "  return [result[0], r2]\n",
        "\n",
        "# sorting\n",
        "finalRDD1 = resultRDD.map(sortRecommendation)\n",
        "finalRDD2 = finalRDD1.map(lambda i: [i[0], i[1][:10]])\n",
        "finalRDD3 = finalRDD2.map(lambda i: (i[0], [r[0] for r in i[1]]))\n",
        "\n",
        "# output sample list\n",
        "outputRecomUserIDList = [924, 1153, 6712, 8213, 12835, 23478]\n",
        "# broadcast the list\n",
        "broadcastIDList = sc.broadcast(outputRecomUserIDList)\n",
        "finalRDD4 = finalRDD3.filter(lambda i: int(i[0]) in broadcastIDList.value)\n",
        "# format the output\n",
        "stringRDD = finalRDD4.map(lambda l: l[0] + \": \" + ','.join(e for e in l[1]))\n",
        "stringRDD.saveAsTextFile(fileSaveDir)"
      ],
      "metadata": {
        "id": "xOG14AmyW2Nf"
      },
      "execution_count": 8,
      "outputs": []
    }
  ]
}