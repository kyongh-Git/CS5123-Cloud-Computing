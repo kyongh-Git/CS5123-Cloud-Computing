{
  "nbformat": 4,
  "nbformat_minor": 0,
  "metadata": {
    "colab": {
      "name": "Assignment3_Task2_YonghwanKim.ipynb",
      "provenance": [],
      "collapsed_sections": []
    },
    "kernelspec": {
      "name": "python3",
      "display_name": "Python 3"
    },
    "language_info": {
      "name": "python"
    }
  },
  "cells": [
    {
      "cell_type": "code",
      "execution_count": null,
      "metadata": {
        "id": "eREVSaMl9D9e",
        "colab": {
          "base_uri": "https://localhost:8080/"
        },
        "outputId": "99a6f27e-f8e9-4cac-ade1-455ba75afe93"
      },
      "outputs": [
        {
          "output_type": "stream",
          "name": "stdout",
          "text": [
            "Collecting pyspark\n",
            "  Downloading pyspark-3.2.1.tar.gz (281.4 MB)\n",
            "\u001b[K     |████████████████████████████████| 281.4 MB 34 kB/s \n",
            "\u001b[?25hCollecting py4j==0.10.9.3\n",
            "  Downloading py4j-0.10.9.3-py2.py3-none-any.whl (198 kB)\n",
            "\u001b[K     |████████████████████████████████| 198 kB 27.8 MB/s \n",
            "\u001b[?25hBuilding wheels for collected packages: pyspark\n",
            "  Building wheel for pyspark (setup.py) ... \u001b[?25l\u001b[?25hdone\n",
            "  Created wheel for pyspark: filename=pyspark-3.2.1-py2.py3-none-any.whl size=281853642 sha256=6f78012332fa23923778b17318966c3552ac7cc4b0ffaa5e08989cd785d105a3\n",
            "  Stored in directory: /root/.cache/pip/wheels/9f/f5/07/7cd8017084dce4e93e84e92efd1e1d5334db05f2e83bcef74f\n",
            "Successfully built pyspark\n",
            "Installing collected packages: py4j, pyspark\n",
            "Successfully installed py4j-0.10.9.3 pyspark-3.2.1\n"
          ]
        }
      ],
      "source": [
        "# Yonghwan Kim Assignment3 Task2 simple search engine-1 \n",
        "!pip install pyspark"
      ]
    },
    {
      "cell_type": "code",
      "source": [
        "import sys\n",
        "import re\n",
        "import math\n",
        "from pyspark import SparkContext, SparkConf"
      ],
      "metadata": {
        "id": "wPSEKj_V9qI0"
      },
      "execution_count": null,
      "outputs": []
    },
    {
      "cell_type": "code",
      "source": [
        "# create Spark context with necessary configuration\n",
        "conf = SparkConf()\n",
        "conf.setMaster('local')\n",
        "conf.setAppName('Task2')\n",
        "sc = SparkContext(conf=conf)"
      ],
      "metadata": {
        "id": "wawss8Cp9ro4"
      },
      "execution_count": null,
      "outputs": []
    },
    {
      "cell_type": "code",
      "source": [
        "from google.colab import drive\n",
        "drive.mount('/content/drive')"
      ],
      "metadata": {
        "colab": {
          "base_uri": "https://localhost:8080/"
        },
        "id": "C3eDEaPk9uiR",
        "outputId": "77907eb8-5ced-4d79-c6f5-b77b15aa66c4"
      },
      "execution_count": null,
      "outputs": [
        {
          "output_type": "stream",
          "name": "stdout",
          "text": [
            "Mounted at /content/drive\n"
          ]
        }
      ]
    },
    {
      "cell_type": "code",
      "source": [
        "# Give **.txt FILE PATHS** here\n",
        "# You can use any random input file of your choice\n",
        "file2Dir = '/content/drive/MyDrive/Assignment3_cloud/Assignment3_Task2Data.txt'\n",
        "stopwordDir = '/content/drive/MyDrive/Assignment3_cloud/stopwords-en.txt'\n",
        "fileSaveDir = '/content/drive/MyDrive/Assignment3_cloud/TF_index'\n",
        "# USE THIS FILE as input FOR ALL BELOW tasks\n",
        "# Change filepath to HDFS path when executing in the cluster"
      ],
      "metadata": {
        "id": "SwYFn8ya9v1G"
      },
      "execution_count": null,
      "outputs": []
    },
    {
      "cell_type": "code",
      "source": [
        "# broadcast stopwords\n",
        "broadcastStopword = sc.broadcast(list(open(stopwordDir).read().splitlines()))\n",
        "# bring data to rdd\n",
        "fileRDD = sc.textFile(file2Dir)\n",
        "\n",
        "# step 1: Text processing\n",
        "\n",
        "# case folding\n",
        "casefoldingRDD = fileRDD.map(lambda line: line.lower())\n",
        "# change formatting\n",
        "linesRDD = casefoldingRDD.map(lambda line: line.replace(\"<text>\", \"\").split(\"</text>\"))\n",
        "formatRDD = linesRDD.map(lambda line: line[0].replace(\"<docid>\", \"\").split(\"</docid>\"))\n",
        "# remove urls\n",
        "URL_Kill = re.compile(r'(https?:|www.)\\S+')\n",
        "URLRemoverRDD = formatRDD.map(lambda word: (word[0], re.sub(URL_Kill, \" \", word[1])))\n",
        "# remove all non-alphabetic chracters and words\n",
        "punctuationsRemovalRDD = URLRemoverRDD.map(lambda word: (word[0], re.sub(r'[^a-zA-Z ]', ' ', word[1]).split(\" \")))\n",
        "# remove empty elements\n",
        "emptyRemoveRDD = punctuationsRemovalRDD.map(lambda word: (word[0], [i for i in word[1] if i]))\n",
        "# remove stopwords\n",
        "stopwordsRemoval = emptyRemoveRDD.map(lambda word: (word[0], [i for i in word[1] if i not in broadcastStopword.value]))"
      ],
      "metadata": {
        "id": "xbwjxr4T91Ya"
      },
      "execution_count": null,
      "outputs": []
    },
    {
      "cell_type": "code",
      "source": [
        "# Step-2: Term Frequency index construction\n",
        "\n",
        "# constructing termfrequecy table\n",
        "termFreqTableRDD1 = stopwordsRemoval.flatMap(lambda word: [((w, word[0]), 1) for w in word[1]])\n",
        "# combine by key\n",
        "countRDD = termFreqTableRDD1.reduceByKey(lambda a,b: a+b)\n",
        "# calculate freq with the log-weigthed frequency\n",
        "termFreqTableRDD2 = countRDD.map(lambda t: (t[0][0], (t[0][1], 1 + math.log10(t[1]))))\n",
        "# group by key\n",
        "termFreqTableRDD3 = termFreqTableRDD2.groupByKey()\n",
        "# covert to list to match the given format\n",
        "termFreqTableRDD4 = termFreqTableRDD3.map(lambda l: (l[0], list(l[1])))\n",
        "# change dictionary to string format with the given format\n",
        "rddtostringRDD = termFreqTableRDD4.map(lambda l: l[0] + \"@\" + '+'.join(str(e[0]) + \"#\" + str(e[1]) for e in l[1]))\n",
        "# save the rdd to the TF_index directory\n",
        "rddtostringRDD.saveAsTextFile(fileSaveDir)"
      ],
      "metadata": {
        "id": "WYi71MuD_GVk"
      },
      "execution_count": null,
      "outputs": []
    }
  ]
}