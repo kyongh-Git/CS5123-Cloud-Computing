{
  "nbformat": 4,
  "nbformat_minor": 0,
  "metadata": {
    "colab": {
      "name": "TF_query.ipynb",
      "provenance": [],
      "collapsed_sections": []
    },
    "kernelspec": {
      "name": "python3",
      "display_name": "Python 3"
    },
    "language_info": {
      "name": "python"
    }
  },
  "cells": [
    {
      "cell_type": "code",
      "execution_count": null,
      "metadata": {
        "id": "AK1PFHvXAM4b",
        "colab": {
          "base_uri": "https://localhost:8080/"
        },
        "outputId": "0029f7cd-c9d7-457e-ea39-7159ec0bd2ea"
      },
      "outputs": [
        {
          "output_type": "stream",
          "name": "stdout",
          "text": [
            "Collecting pyspark\n",
            "  Downloading pyspark-3.2.1.tar.gz (281.4 MB)\n",
            "\u001b[K     |████████████████████████████████| 281.4 MB 35 kB/s \n",
            "\u001b[?25hCollecting py4j==0.10.9.3\n",
            "  Downloading py4j-0.10.9.3-py2.py3-none-any.whl (198 kB)\n",
            "\u001b[K     |████████████████████████████████| 198 kB 41.8 MB/s \n",
            "\u001b[?25hBuilding wheels for collected packages: pyspark\n",
            "  Building wheel for pyspark (setup.py) ... \u001b[?25l\u001b[?25hdone\n",
            "  Created wheel for pyspark: filename=pyspark-3.2.1-py2.py3-none-any.whl size=281853642 sha256=9f889d6dffccdbd2cc17d6dda478281ee2dd55ed90d025dbcf89fa953acddfdc\n",
            "  Stored in directory: /root/.cache/pip/wheels/9f/f5/07/7cd8017084dce4e93e84e92efd1e1d5334db05f2e83bcef74f\n",
            "Successfully built pyspark\n",
            "Installing collected packages: py4j, pyspark\n",
            "Successfully installed py4j-0.10.9.3 pyspark-3.2.1\n"
          ]
        }
      ],
      "source": [
        "# Yonghwan Kim Assignment3 Task2 simple search engine-2: TF_query\n",
        "!pip install pyspark"
      ]
    },
    {
      "cell_type": "code",
      "source": [
        "import sys\n",
        "import re\n",
        "import math\n",
        "from pyspark import SparkContext, SparkConf"
      ],
      "metadata": {
        "id": "kwlZT04dAoNq"
      },
      "execution_count": null,
      "outputs": []
    },
    {
      "cell_type": "code",
      "source": [
        "# create Spark context with necessary configuration\n",
        "conf = SparkConf()\n",
        "conf.setMaster('local')\n",
        "conf.setAppName('Task2query')\n",
        "sc = SparkContext(conf=conf)"
      ],
      "metadata": {
        "id": "JHHlSNiCApkU"
      },
      "execution_count": null,
      "outputs": []
    },
    {
      "cell_type": "code",
      "source": [
        "from google.colab import drive\n",
        "drive.mount('/content/drive')"
      ],
      "metadata": {
        "colab": {
          "base_uri": "https://localhost:8080/"
        },
        "id": "HlsIzRpGAqru",
        "outputId": "74bd3529-0e33-4315-ca6f-f8848d4110fb"
      },
      "execution_count": null,
      "outputs": [
        {
          "output_type": "stream",
          "name": "stdout",
          "text": [
            "Mounted at /content/drive\n"
          ]
        }
      ]
    },
    {
      "cell_type": "code",
      "source": [
        "# Give **.txt FILE PATHS** here\n",
        "# You can use any random input file of your choice\n",
        "TF_indexDir = '/content/drive/MyDrive/Assignment3_cloud/TF_index/part-00000'\n",
        "stopwordDir = '/content/drive/MyDrive/Assignment3_cloud/stopwords-en.txt'\n",
        "fileSaveDir = '/content/drive/MyDrive/Assignment3_cloud/Task2Output'\n",
        "# USE THIS FILE as input FOR ALL BELOW tasks\n",
        "# Change filepath to HDFS path when executing in the cluster"
      ],
      "metadata": {
        "id": "w57nFOXNAryP"
      },
      "execution_count": null,
      "outputs": []
    },
    {
      "cell_type": "code",
      "source": [
        "# recover the string to RDD\n",
        "# take input file from TF_index directory\n",
        "fileRDD = sc.textFile(TF_indexDir)\n",
        "# Split by word\n",
        "recoverToRDD1 = fileRDD.map(lambda i: i.split('@'))\n",
        "# split by doc id\n",
        "recoverToRDD2 = recoverToRDD1.map(lambda i: (i[0], i[1].split('+')))\n",
        "# split doc id and term frequency\n",
        "recoverToRDD3 = recoverToRDD2.map(lambda i: (i[0], [x.split('#') for x in i[1]]))"
      ],
      "metadata": {
        "id": "Dylouoh5BQj9"
      },
      "execution_count": null,
      "outputs": []
    },
    {
      "cell_type": "code",
      "source": [
        "print('Enter your query: ')\n",
        "\n",
        "# example string:\n",
        "# sculpture marker coords dms nearest concolor\n",
        "\n",
        "# stopword broadcasting\n",
        "broadcastStopword = sc.broadcast(list(open(stopwordDir).read().splitlines()))\n",
        "# take input string and change it to RDD\n",
        "queryStrRDD = sc.parallelize(input().split(\" \"))\n",
        "# case folding\n",
        "casefoldingRDD = queryStrRDD.map(lambda line: line.lower())\n",
        "# remove urls\n",
        "URL_Kill = re.compile(r'(https?:|www.)\\S+')\n",
        "URLRemoverRDD = casefoldingRDD.map(lambda word: re.sub(URL_Kill, \" \", word))\n",
        "# remove all non-alphabetic chracters and words\n",
        "punctuationsRemovalRDD = URLRemoverRDD.flatMap(lambda word: re.sub(r'[^a-zA-Z ]', ' ', word).split(\" \"))\n",
        "# remove empty elements\n",
        "emptyRemoveRDD = punctuationsRemovalRDD.filter(lambda word: word != '')\n",
        "# remove stopwords\n",
        "stopwordsRemoval = emptyRemoveRDD.filter(lambda word: word not in broadcastStopword.value)\n",
        "# broadcast the input query\n",
        "broadcastQuery = sc.broadcast(stopwordsRemoval.collect())"
      ],
      "metadata": {
        "id": "bvqfqGD2AEpP",
        "colab": {
          "base_uri": "https://localhost:8080/"
        },
        "outputId": "5c9b1de9-a37f-40d8-f297-3e4f420e6b9d"
      },
      "execution_count": null,
      "outputs": [
        {
          "name": "stdout",
          "output_type": "stream",
          "text": [
            "Enter your query: \n",
            "sculpture marker coords dms nearest concolor\n"
          ]
        }
      ]
    },
    {
      "cell_type": "code",
      "source": [
        "# filter the RDD with broadcasted values\n",
        "filterQueryRDD = recoverToRDD3.filter(lambda word: word[0] in broadcastQuery.value)\n",
        "# transform RDD to drop words\n",
        "dropwordsRDD = filterQueryRDD.flatMap(lambda q: q[1])\n",
        "# make the freq value float type to reduce later\n",
        "floatTFRDD = dropwordsRDD.map(lambda i: (i[0], float(i[1])))\n",
        "# combine all freq values\n",
        "reduceQueryRDD = floatTFRDD.reduceByKey(lambda a, b: a + b)\n",
        "# sort rdd in decreasing order\n",
        "sortRDD = reduceQueryRDD.sortBy(lambda x: x[1], ascending=False)\n",
        "# take top 10 results\n",
        "finalRDD = sc.parallelize(sortRDD.take(10))\n",
        "# save the text file to Task2Output directory\n",
        "finalRDD.saveAsTextFile(fileSaveDir)"
      ],
      "metadata": {
        "id": "UuNFSwLH-Vg3"
      },
      "execution_count": null,
      "outputs": []
    }
  ]
}