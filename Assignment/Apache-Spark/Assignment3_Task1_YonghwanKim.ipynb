{
  "nbformat": 4,
  "nbformat_minor": 0,
  "metadata": {
    "colab": {
      "name": "Assignment3_Task1_YonghwanKim.ipynb",
      "provenance": [],
      "collapsed_sections": []
    },
    "kernelspec": {
      "name": "python3",
      "display_name": "Python 3"
    },
    "language_info": {
      "name": "python"
    }
  },
  "cells": [
    {
      "cell_type": "code",
      "source": [
        "# Yonghwan Kim Assignment3 Task1\n",
        "!pip install pyspark"
      ],
      "metadata": {
        "colab": {
          "base_uri": "https://localhost:8080/"
        },
        "id": "Rse7jff08p59",
        "outputId": "34a39d33-a4cc-4859-d466-4c63f1a7e34a"
      },
      "execution_count": null,
      "outputs": [
        {
          "output_type": "stream",
          "name": "stdout",
          "text": [
            "Collecting pyspark\n",
            "  Downloading pyspark-3.2.1.tar.gz (281.4 MB)\n",
            "\u001b[K     |████████████████████████████████| 281.4 MB 34 kB/s \n",
            "\u001b[?25hCollecting py4j==0.10.9.3\n",
            "  Downloading py4j-0.10.9.3-py2.py3-none-any.whl (198 kB)\n",
            "\u001b[K     |████████████████████████████████| 198 kB 52.2 MB/s \n",
            "\u001b[?25hBuilding wheels for collected packages: pyspark\n",
            "  Building wheel for pyspark (setup.py) ... \u001b[?25l\u001b[?25hdone\n",
            "  Created wheel for pyspark: filename=pyspark-3.2.1-py2.py3-none-any.whl size=281853642 sha256=950adc818fc7de3e1563144a049b71a516a68aca49e1e0f6b603b5fb05331189\n",
            "  Stored in directory: /root/.cache/pip/wheels/9f/f5/07/7cd8017084dce4e93e84e92efd1e1d5334db05f2e83bcef74f\n",
            "Successfully built pyspark\n",
            "Installing collected packages: py4j, pyspark\n",
            "Successfully installed py4j-0.10.9.3 pyspark-3.2.1\n"
          ]
        }
      ]
    },
    {
      "cell_type": "code",
      "execution_count": null,
      "metadata": {
        "id": "p2lLs4ik8dr5"
      },
      "outputs": [],
      "source": [
        "import sys\n",
        " \n",
        "from pyspark import SparkContext, SparkConf"
      ]
    },
    {
      "cell_type": "code",
      "source": [
        "# create Spark context with necessary configuration\n",
        "conf = SparkConf()\n",
        "conf.setMaster('local')\n",
        "conf.setAppName('Task1')\n",
        "sc = SparkContext(conf=conf)"
      ],
      "metadata": {
        "id": "Nr_H1l9h8nfg"
      },
      "execution_count": null,
      "outputs": []
    },
    {
      "cell_type": "code",
      "source": [
        "from google.colab import drive\n",
        "drive.mount('/content/drive')"
      ],
      "metadata": {
        "id": "72eIiD428stf",
        "outputId": "2aaf801c-f2a2-450d-e53a-9c703d1dfe64",
        "colab": {
          "base_uri": "https://localhost:8080/"
        }
      },
      "execution_count": null,
      "outputs": [
        {
          "output_type": "stream",
          "name": "stdout",
          "text": [
            "Mounted at /content/drive\n"
          ]
        }
      ]
    },
    {
      "cell_type": "code",
      "source": [
        "# Give **.txt FILE PATHS** here\n",
        "# You can use any random input file of your choice\n",
        "file1Dir = '/content/drive/MyDrive/Assignment3_cloud/Assignment1_Task1Data.txt'\n",
        "stopwordDir = '/content/drive/MyDrive/Assignment3_cloud/stopwords-en.txt'\n",
        "fileSaveDir = '/content/drive/MyDrive/Assignment3_cloud/Task1Output'\n",
        "# USE THIS FILE as input FOR ALL BELOW tasks\n",
        "# Change filepath to HDFS path when executing in the cluster"
      ],
      "metadata": {
        "id": "H60Nk_t38oZW"
      },
      "execution_count": null,
      "outputs": []
    },
    {
      "cell_type": "code",
      "source": [
        "# broadcast stopwords\n",
        "broadcastStopword = sc.broadcast(list(open(stopwordDir).read().splitlines()))"
      ],
      "metadata": {
        "id": "QZMDkKOz8uro"
      },
      "execution_count": null,
      "outputs": []
    },
    {
      "cell_type": "code",
      "source": [
        "# bring data to RDD\n",
        "fileRDD = sc.textFile(file1Dir)\n",
        "\n",
        "# string to list\n",
        "wordsRDD = fileRDD.flatMap(lambda line: line.split(\" \"))\n",
        "# remove stop word\n",
        "removeStopwordRDD = wordsRDD.filter(lambda word: word not in broadcastStopword.value)\n",
        "# pairing RDD\n",
        "pairRDD = removeStopwordRDD.map(lambda word: (word,1))\n",
        "# count RDD\n",
        "countRDD = pairRDD.reduceByKey(lambda a,b: a+b)\n",
        "# save to textfile\n",
        "countRDD.saveAsTextFile(fileSaveDir)"
      ],
      "metadata": {
        "id": "KNSeVrUA8v6-"
      },
      "execution_count": null,
      "outputs": []
    }
  ]
}